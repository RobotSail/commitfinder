{
 "cells": [
  {
   "cell_type": "code",
   "execution_count": 1,
   "metadata": {},
   "outputs": [],
   "source": [
    "from commitfinder import UpstreamRepo\n",
    "from pygit2 import Commit, Repository, Tree, Diff\n",
    "import pygit2"
   ]
  },
  {
   "cell_type": "code",
   "execution_count": 2,
   "metadata": {},
   "outputs": [],
   "source": [
    "# test creating an upstream repo \n",
    "origin = UpstreamRepo(\"https://github.com/kubernetes/kubernetes\", \"github\")"
   ]
  },
  {
   "cell_type": "code",
   "execution_count": 3,
   "metadata": {},
   "outputs": [
    {
     "name": "stdout",
     "output_type": "stream",
     "text": [
      "Found 121239 commits\n"
     ]
    }
   ],
   "source": [
    "# get all of the commits\n",
    "commits = origin.all_commits('master')\n",
    "if not commits:\n",
    "    print('No commits found')\n",
    "else:\n",
    "    print(f'Found {len(list(commits))} commits')"
   ]
  },
  {
   "cell_type": "code",
   "execution_count": 4,
   "metadata": {},
   "outputs": [
    {
     "name": "stdout",
     "output_type": "stream",
     "text": [
      "found a commit which we can use: 20a57641f83e54f94737cfc9830de5e270b0fa9e after looking at 0 commits\n"
     ]
    }
   ],
   "source": [
    "# let's try to understand the format of a git tree\n",
    "commit = None\n",
    "evaluated = 0\n",
    "for c in origin.all_commits('master'):\n",
    "    if c is not None:\n",
    "        print(f'found a commit which we can use: {c.hex} after looking at {evaluated} commits')\n",
    "        commit = c\n",
    "        break\n",
    "    evaluated += 1\n",
    "\n",
    "if not commit:\n",
    "    print(f'looked at {evaluated} commits but could not find one that wasnt null')"
   ]
  },
  {
   "cell_type": "code",
   "execution_count": 5,
   "metadata": {},
   "outputs": [
    {
     "name": "stdout",
     "output_type": "stream",
     "text": [
      "commit: 20a57641f83e54f94737cfc9830de5e270b0fa9e\n",
      "author(s): openshift-merge-bot[bot] <148852131+openshift-merge-bot[bot]@users.noreply.github.com>\n",
      "message: Merge pull request #1800 from sebsoto/cvemaster\n",
      "\n",
      "OCPBUGS-22724: UPSTREAM: 121881: Use golang library instead of mklink\n",
      "tree id: 6008a988f0833a24c98c051bb5c769367089ab0d\n",
      "commiter: GitHub <noreply@github.com>\n",
      "filemode: None\n",
      "parent_ids: [4cbdd29250f42f7294c94d5ba60f4b168f6d58a2, f59457bea4cdc250aa16862669908b0184919205]\n"
     ]
    }
   ],
   "source": [
    "def print_commit_info(c: Commit):\n",
    "    print(f'commit: {c.hex}')\n",
    "    print(f'author(s): {c.author}')\n",
    "    print(f'message: {c.message}')\n",
    "    print(f'tree id: {c.tree_id}')\n",
    "    print(f'commiter: {c.committer}')\n",
    "    print(f'filemode: {c.filemode}')\n",
    "    print(f'parent_ids: {c.parent_ids}')\n",
    "\n",
    "print_commit_info(commit)"
   ]
  },
  {
   "cell_type": "markdown",
   "metadata": {},
   "source": [
    "### Find a commit with renamed files\n",
    "\n",
    "Let's look at a commit for which the operation was simply renaming files"
   ]
  },
  {
   "cell_type": "code",
   "execution_count": 6,
   "metadata": {},
   "outputs": [
    {
     "name": "stdout",
     "output_type": "stream",
     "text": [
      "found 131 commits with the word \"renamed\" in the message\n"
     ]
    }
   ],
   "source": [
    "renamed = []\n",
    "for c in origin.all_commits('master'):\n",
    "    if not c:\n",
    "        continue\n",
    "    if 'renamed' in c.message.lower():\n",
    "        renamed.append(c)\n",
    "\n",
    "print(f'found {len(renamed)} commits with the word \"renamed\" in the message')"
   ]
  },
  {
   "cell_type": "markdown",
   "metadata": {},
   "source": [
    "### Investigate a Commit With Renamed Files\n",
    "\n",
    "We know that the commit `8d92cfb13163f596feddfe1b5e734fd1ba4f6323` in the\n",
    "[kubernetes repository](https://github.com/kubernetes/kubernetes/commit/8d92cfb13163f596feddfe1b5e734fd1ba4f6323) which contains a file rename operation.\n",
    "\n",
    "We want to investigate and understand how this looks within the PyGit2 API."
   ]
  },
  {
   "cell_type": "code",
   "execution_count": 7,
   "metadata": {},
   "outputs": [
    {
     "name": "stdout",
     "output_type": "stream",
     "text": [
      "found commit: 8d92cfb13163f596feddfe1b5e734fd1ba4f6323\n"
     ]
    }
   ],
   "source": [
    "commit: Commit = None\n",
    "for c in renamed:\n",
    "    if c.hex == '8d92cfb13163f596feddfe1b5e734fd1ba4f6323':\n",
    "        commit = c\n",
    "        break\n",
    "\n",
    "print(f'found commit: {commit.hex}')"
   ]
  },
  {
   "cell_type": "code",
   "execution_count": 8,
   "metadata": {},
   "outputs": [],
   "source": [
    "commit: Commit = commit"
   ]
  },
  {
   "cell_type": "code",
   "execution_count": 9,
   "metadata": {},
   "outputs": [
    {
     "name": "stdout",
     "output_type": "stream",
     "text": [
      "commit: 8d92cfb13163f596feddfe1b5e734fd1ba4f6323\n",
      "author(s): Mike Spreitzer <mspreitz@us.ibm.com>\n",
      "message: Added conversions to/from NamespacedName\n",
      "\n",
      "Also renamed file to something more on-point.\n",
      "\n",
      "tree id: 40680b2726e60580e6c288b56e143994b0ebaa52\n",
      "commiter: Mike Spreitzer <mspreitz@us.ibm.com>\n",
      "filemode: None\n",
      "parent_ids: [ec9515a828ec3907ffc66913947adf4e8ee7b9d6]\n"
     ]
    }
   ],
   "source": [
    "print_commit_info(commit)"
   ]
  },
  {
   "cell_type": "code",
   "execution_count": 10,
   "metadata": {},
   "outputs": [
    {
     "name": "stdout",
     "output_type": "stream",
     "text": [
      "name: None\n",
      "id: 40680b2726e60580e6c288b56e143994b0ebaa52\n",
      "type: 2\n",
      "type_str: tree\n",
      "filemode: None\n",
      "oid: 40680b2726e60580e6c288b56e143994b0ebaa52\n"
     ]
    }
   ],
   "source": [
    "def print_tree(t: Tree):\n",
    "    print(f'name: {t.name}')\n",
    "    print(f'id: {t.id}')\n",
    "    print(f'type: {t.type}')\n",
    "    print(f'type_str: {t.type_str}')\n",
    "    print(f'filemode: {t.filemode}')\n",
    "    print(f'oid: {t.oid}')\n",
    "\n",
    "print_tree(commit.tree)"
   ]
  },
  {
   "cell_type": "markdown",
   "metadata": {},
   "source": [
    "### View Diff Information"
   ]
  },
  {
   "cell_type": "code",
   "execution_count": 11,
   "metadata": {},
   "outputs": [
    {
     "data": {
      "text/plain": [
       "['staging/src/k8s.io/client-go/tools/cache/keyfunc.go',\n",
       " 'staging/src/k8s.io/client-go/tools/cache/object-names.go',\n",
       " 'staging/src/k8s.io/client-go/tools/cache/object-names_test.go']"
      ]
     },
     "execution_count": 11,
     "metadata": {},
     "output_type": "execute_result"
    }
   ],
   "source": [
    "# function from commitfinder.py\n",
    "def files_touched(commit: Commit) -> list:\n",
    "    return [\n",
    "        line.split()[-1]\n",
    "        for line in origin.pyrepo.diff(commit.parents[0], commit)\n",
    "        .stats.format(pygit2.GIT_DIFF_STATS_NUMBER, 10)\n",
    "        .splitlines()\n",
    "    ]\n",
    "files_touched(commit)"
   ]
  },
  {
   "cell_type": "code",
   "execution_count": 12,
   "metadata": {},
   "outputs": [
    {
     "name": "stdout",
     "output_type": "stream",
     "text": [
      "0       50      staging/src/k8s.io/client-go/tools/cache/keyfunc.go\n",
      "65      0       staging/src/k8s.io/client-go/tools/cache/object-names.go\n",
      "59      0       staging/src/k8s.io/client-go/tools/cache/object-names_test.go\n",
      "\n"
     ]
    }
   ],
   "source": [
    "# lets look at the above function more closely\n",
    "diff_obj = origin.pyrepo.diff(commit.parents[0], commit)\n",
    "print(diff_obj.stats.format(pygit2.GIT_DIFF_STATS_NUMBER, 10))"
   ]
  },
  {
   "cell_type": "markdown",
   "metadata": {},
   "source": [
    "### What are the parents?"
   ]
  },
  {
   "cell_type": "code",
   "execution_count": 13,
   "metadata": {},
   "outputs": [
    {
     "name": "stdout",
     "output_type": "stream",
     "text": [
      "[<pygit2.Object{commit:ec9515a828ec3907ffc66913947adf4e8ee7b9d6}>]\n"
     ]
    }
   ],
   "source": [
    "print(commit.parents)"
   ]
  },
  {
   "cell_type": "markdown",
   "metadata": {},
   "source": [
    "### Let's investigate the diff object a bit more"
   ]
  },
  {
   "cell_type": "code",
   "execution_count": 14,
   "metadata": {},
   "outputs": [
    {
     "name": "stdout",
     "output_type": "stream",
     "text": [
      "=== processing delta 0 ===\n",
      "flags: 2\n",
      "is_binary: False\n",
      "new_file: staging/src/k8s.io/client-go/tools/cache/keyfunc.go\n",
      "old_file: staging/src/k8s.io/client-go/tools/cache/keyfunc.go\n",
      "similarity: 0\n",
      "status: 2\n",
      "status_char: D\n",
      "=== processing delta 1 ===\n",
      "flags: 2\n",
      "is_binary: False\n",
      "new_file: staging/src/k8s.io/client-go/tools/cache/object-names.go\n",
      "old_file: staging/src/k8s.io/client-go/tools/cache/object-names.go\n",
      "similarity: 0\n",
      "status: 1\n",
      "status_char: A\n",
      "=== processing delta 2 ===\n",
      "flags: 2\n",
      "is_binary: False\n",
      "new_file: staging/src/k8s.io/client-go/tools/cache/object-names_test.go\n",
      "old_file: staging/src/k8s.io/client-go/tools/cache/object-names_test.go\n",
      "similarity: 0\n",
      "status: 1\n",
      "status_char: A\n"
     ]
    }
   ],
   "source": [
    "# look at the deltas\n",
    "for i, d in enumerate(diff_obj.deltas):\n",
    "    print(f'=== processing delta {i} ===')\n",
    "    print(f'flags: {d.flags}')\n",
    "    print(f'is_binary: {d.is_binary}')\n",
    "    print(f'new_file: {d.new_file.path}')\n",
    "    print(f'old_file: {d.old_file.path}')\n",
    "    print(f'similarity: {d.similarity}')\n",
    "    print(f'status: {d.status}')\n",
    "    print(f'status_char: {d.status_char()}')\n",
    "    if d.status == pygit2.GIT_DELTA_RENAMED:\n",
    "        print(f'renamed: {d.renamed}')"
   ]
  },
  {
   "cell_type": "markdown",
   "metadata": {},
   "source": [
    "### Detecting File Renames\n",
    "\n",
    "According to several sources listed below, git does not actually track file renames but instead performs detection of renames.\n",
    "This is done by comparing the similarity of files in the commit and the parent commit. If the similarity is above a certain threshold, then git will consider the file to be renamed.\n",
    "\n",
    "Sources:\n",
    "- [stackoverflow](https://stackoverflow.com/a/7941544)\n",
    "- [blog: how does git detect file renames?](https://chelseatroy.com/2020/05/09/question-how-does-git-detect-renames/)\n",
    "\n",
    "\n",
    "The specific psuedocode for this is described in the above blog:\n",
    "\n",
    "> Here’s how git detects a rename under the hood:\n",
    "> \n",
    "> 1. Were any files _deleted_ in this commit? That is, are there files that were committed in the last commit, that as of this commit, are _gone_? These are candidates files that might have been renamed.\n",
    "> 1. Were any files _added_ in this commit? That is, are there files that were not there in the last commit, and as of this commit, exist? These are candidates for files _to which the deleted files_ might have been renamed.\n",
    "> 1. At this point, git runs a diff algorithm on the candidate files. It would be computationally expensive to run this on the whole repo all the time if we can narrow down the rename candidates to the newly deleted files and the newly added files, which is why we do that first.\n",
    "> \n",
    "> You have access to the command git uses to do this: `$git diff -M`. The command `$git diff` shows you the individual changes in a file, a branch, or the whole repo if you want, depending on what you pass in. The `-M` flag stands for “detect move” or, for our purposes, detect a rename.\n",
    "\n",
    "\n",
    "This means that we need to invoke the `git diff -M` command from within PyGit2 and understand the output."
   ]
  },
  {
   "cell_type": "code",
   "execution_count": 15,
   "metadata": {},
   "outputs": [
    {
     "name": "stdout",
     "output_type": "stream",
     "text": [
      "0       50      staging/src/k8s.io/client-go/tools/cache/keyfunc.go\n",
      "65      0       staging/src/k8s.io/client-go/tools/cache/object-names.go\n",
      "59      0       staging/src/k8s.io/client-go/tools/cache/object-names_test.go\n",
      "\n"
     ]
    }
   ],
   "source": [
    "# lets look at the above function more closely\n",
    "diff_obj = origin.pyrepo.diff(commit.parents[0], commit, flags=pygit2.GIT_DIFF_FIND_RENAMES_FROM_REWRITES)\n",
    "print(diff_obj.stats.format(pygit2.GIT_DIFF_STATS_NUMBER, 10))"
   ]
  },
  {
   "cell_type": "code",
   "execution_count": 16,
   "metadata": {},
   "outputs": [
    {
     "name": "stdout",
     "output_type": "stream",
     "text": [
      "=== processing delta 0 ===\n",
      "flags: 2\n",
      "is_binary: False\n",
      "new_file: staging/src/k8s.io/client-go/tools/cache/keyfunc.go\n",
      "old_file: staging/src/k8s.io/client-go/tools/cache/keyfunc.go\n",
      "similarity: 0\n",
      "status: 2\n",
      "status_char: D\n",
      "=== processing delta 1 ===\n",
      "flags: 2\n",
      "is_binary: False\n",
      "new_file: staging/src/k8s.io/client-go/tools/cache/object-names.go\n",
      "old_file: staging/src/k8s.io/client-go/tools/cache/object-names.go\n",
      "similarity: 0\n",
      "status: 1\n",
      "status_char: A\n",
      "=== processing delta 2 ===\n",
      "flags: 2\n",
      "is_binary: False\n",
      "new_file: staging/src/k8s.io/client-go/tools/cache/object-names_test.go\n",
      "old_file: staging/src/k8s.io/client-go/tools/cache/object-names_test.go\n",
      "similarity: 0\n",
      "status: 1\n",
      "status_char: A\n"
     ]
    }
   ],
   "source": [
    "# look at the deltas\n",
    "for i, d in enumerate(diff_obj.deltas):\n",
    "    print(f'=== processing delta {i} ===')\n",
    "    print(f'flags: {d.flags}')\n",
    "    print(f'is_binary: {d.is_binary}')\n",
    "    print(f'new_file: {d.new_file.path}')\n",
    "    print(f'old_file: {d.old_file.path}')\n",
    "    print(f'similarity: {d.similarity}')\n",
    "    print(f'status: {d.status}')\n",
    "    print(f'status_char: {d.status_char()}')"
   ]
  },
  {
   "cell_type": "markdown",
   "metadata": {},
   "source": [
    "### Invoke `git diff -M`\n",
    "\n",
    "So passing the flag to the diff function directly doesn't seem to work,\n",
    "but as shown below, the `find_similar` function is capable of performing the desired operation."
   ]
  },
  {
   "cell_type": "code",
   "execution_count": 17,
   "metadata": {},
   "outputs": [
    {
     "name": "stdout",
     "output_type": "stream",
     "text": [
      "=== processing delta 0 ===\n",
      "flags: 2\n",
      "is_binary: False\n",
      "new_file: staging/src/k8s.io/client-go/tools/cache/object-names.go\n",
      "old_file: staging/src/k8s.io/client-go/tools/cache/keyfunc.go\n",
      "similarity: 86\n",
      "status: 4\n",
      "status_char: R\n",
      "=== processing delta 1 ===\n",
      "flags: 2\n",
      "is_binary: False\n",
      "new_file: staging/src/k8s.io/client-go/tools/cache/object-names_test.go\n",
      "old_file: staging/src/k8s.io/client-go/tools/cache/object-names_test.go\n",
      "similarity: 0\n",
      "status: 1\n",
      "status_char: A\n"
     ]
    }
   ],
   "source": [
    "# use the find_similar flag on the diff object\n",
    "diff_obj.find_similar()\n",
    "for i, d in enumerate(diff_obj.deltas):\n",
    "    print(f'=== processing delta {i} ===')\n",
    "    print(f'flags: {d.flags}')\n",
    "    print(f'is_binary: {d.is_binary}')\n",
    "    print(f'new_file: {d.new_file.path}')\n",
    "    print(f'old_file: {d.old_file.path}')\n",
    "    print(f'similarity: {d.similarity}')\n",
    "    print(f'status: {d.status}')\n",
    "    print(f'status_char: {d.status_char()}')"
   ]
  },
  {
   "cell_type": "markdown",
   "metadata": {},
   "source": [
    "### What is the distribution of commit and parent counts?\n",
    "\n",
    "According to the [git docs](https://git-scm.com/docs/git-commit-tree#:~:text=A%20commit%20object%20may%20have,between%20several%20lines%20of%20history.), this is what the `commit.parents` object represents:\n",
    "\n",
    "> A commit object may have any number of parents. With exactly one parent, it is an ordinary commit. Having more than one parent makes the commit a merge between several lines of history. Initial (root) commits have no parents.\n",
    "\n"
   ]
  },
  {
   "cell_type": "code",
   "execution_count": 18,
   "metadata": {},
   "outputs": [
    {
     "name": "stdout",
     "output_type": "stream",
     "text": [
      "{2: 50403, 1: 70835, 0: 1}\n"
     ]
    }
   ],
   "source": [
    "parent_counts = {}\n",
    "for c in origin.all_commits('master'):\n",
    "    count = len(c.parents)\n",
    "    if count not in parent_counts:\n",
    "        parent_counts[count] = 0\n",
    "    parent_counts[count] += 1\n",
    "print(parent_counts)"
   ]
  },
  {
   "cell_type": "code",
   "execution_count": 19,
   "metadata": {},
   "outputs": [
    {
     "data": {
      "image/png": "[encoded data removed]",
      "text/plain": [
       "<Figure size 640x480 with 1 Axes>"
      ]
     },
     "metadata": {},
     "output_type": "display_data"
    }
   ],
   "source": [
    "import matplotlib.pyplot as plt\n",
    "\n",
    "numbers = list(parent_counts.keys())\n",
    "frequencies = list(parent_counts.values())\n",
    "\n",
    "plt.bar(numbers, frequencies)\n",
    "\n",
    "plt.xlabel('Number of Parents')\n",
    "plt.ylabel('Frequency')\n",
    "\n",
    "plt.show()"
   ]
  }
 ],
 "metadata": {
  "kernelspec": {
   "display_name": "venv",
   "language": "python",
   "name": "python3"
  },
  "language_info": {
   "codemirror_mode": {
    "name": "ipython",
    "version": 3
   },
   "file_extension": ".py",
   "mimetype": "text/x-python",
   "name": "python",
   "nbconvert_exporter": "python",
   "pygments_lexer": "ipython3",
   "version": "3.11.1"
  }
 },
 "nbformat": 4,
 "nbformat_minor": 2
}
